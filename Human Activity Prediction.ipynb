{
 "cells": [
  {
   "cell_type": "code",
   "execution_count": 56,
   "metadata": {},
   "outputs": [],
   "source": [
    "# All the imports\n",
    "import numpy as np\n",
    "import pandas as pd\n",
    "from IPython.display import display\n",
    "from sklearn.model_selection import train_test_split\n",
    "from sklearn.neighbors import KNeighborsClassifier\n",
    "from sklearn.model_selection import train_test_split\n",
    "from sklearn.metrics import accuracy_score\n",
    "from sklearn.tree import DecisionTreeClassifier\n",
    "from sklearn.linear_model import LogisticRegression\n",
    "from sklearn.model_selection import cross_val_score\n",
    "import matplotlib.pyplot as plt\n",
    "from sklearn.preprocessing import scale\n",
    "from sklearn.preprocessing import MinMaxScaler\n",
    "from sklearn.linear_model import LinearRegression\n",
    "from sklearn import metrics"
   ]
  },
  {
   "cell_type": "code",
   "execution_count": 57,
   "metadata": {},
   "outputs": [
    {
     "name": "stdout",
     "output_type": "stream",
     "text": [
      "   id               name\n",
      "0   1  tBodyAcc-mean()-X\n",
      "1   2  tBodyAcc-mean()-Y\n",
      "2   3  tBodyAcc-mean()-Z\n",
      "3   4   tBodyAcc-std()-X\n",
      "4   5   tBodyAcc-std()-Y\n"
     ]
    }
   ],
   "source": [
    "df_X_headers = pd.read_table(\"features.txt\", delim_whitespace=True, header=None, names=[\"id\", \"name\"])\n",
    "print(df_X_headers.head())\n",
    "#[g for _, g in df_X_headers.groupby(\"name\") if len(g)>1]\n",
    "\n",
    "\n",
    "#df_X_headers.groupby(\"name\")"
   ]
  },
  {
   "cell_type": "code",
   "execution_count": 58,
   "metadata": {},
   "outputs": [
    {
     "name": "stdout",
     "output_type": "stream",
     "text": [
      "        0         1         2         3         4         5         6    \\\n",
      "0  0.288585 -0.020294 -0.132905 -0.995279 -0.983111 -0.913526 -0.995112   \n",
      "1  0.278419 -0.016411 -0.123520 -0.998245 -0.975300 -0.960322 -0.998807   \n",
      "2  0.279653 -0.019467 -0.113462 -0.995380 -0.967187 -0.978944 -0.996520   \n",
      "3  0.279174 -0.026201 -0.123283 -0.996091 -0.983403 -0.990675 -0.997099   \n",
      "4  0.276629 -0.016570 -0.115362 -0.998139 -0.980817 -0.990482 -0.998321   \n",
      "\n",
      "        7         8         9      ...          551       552       553  \\\n",
      "0 -0.983185 -0.923527 -0.934724    ...    -0.074323 -0.298676 -0.710304   \n",
      "1 -0.974914 -0.957686 -0.943068    ...     0.158075 -0.595051 -0.861499   \n",
      "2 -0.963668 -0.977469 -0.938692    ...     0.414503 -0.390748 -0.760104   \n",
      "3 -0.982750 -0.989302 -0.938692    ...     0.404573 -0.117290 -0.482845   \n",
      "4 -0.979672 -0.990441 -0.942469    ...     0.087753 -0.351471 -0.699205   \n",
      "\n",
      "        554       555       556       557       558       559       560  \n",
      "0 -0.112754  0.030400 -0.464761 -0.018446 -0.841247  0.179941 -0.058627  \n",
      "1  0.053477 -0.007435 -0.732626  0.703511 -0.844788  0.180289 -0.054317  \n",
      "2 -0.118559  0.177899  0.100699  0.808529 -0.848933  0.180637 -0.049118  \n",
      "3 -0.036788 -0.012892  0.640011 -0.485366 -0.848649  0.181935 -0.047663  \n",
      "4  0.123320  0.122542  0.693578 -0.615971 -0.847865  0.185151 -0.043892  \n",
      "\n",
      "[5 rows x 561 columns]\n",
      "(7352, 1)\n",
      "(2947, 561)\n",
      "(2947, 1)\n"
     ]
    }
   ],
   "source": [
    "df_X_train = pd.read_table(\"train/X_train.txt\", delim_whitespace=True, header=None)\n",
    "print(df_X_train.head())\n",
    "#print(df_X_train[[310,311,324,325,338,339]].head())\n",
    "\n",
    "df_y_train = pd.read_table(\"train/y_train.txt\", delim_whitespace=True, header=None)\n",
    "print(df_y_train.shape)\n",
    "\n",
    "df_X_test = pd.read_table(\"test/X_test.txt\", delim_whitespace=True, header=None)\n",
    "print(df_X_test.shape)\n",
    "\n",
    "df_y_test = pd.read_table(\"test/y_test.txt\", delim_whitespace=True, header=None)\n",
    "print(df_y_test.shape)\n",
    "\n"
   ]
  },
  {
   "cell_type": "code",
   "execution_count": 59,
   "metadata": {},
   "outputs": [],
   "source": [
    "def predict(X_train, y_train, X_test, model):\n",
    "    model.fit(X_train, y_train)\n",
    "    return model.predict(X_test)"
   ]
  },
  {
   "cell_type": "code",
   "execution_count": 62,
   "metadata": {},
   "outputs": [],
   "source": [
    "def accuracy(X_train, y_train, X_test, model_tuples):\n",
    "    \"\"\"\n",
    "    model_tuples -> [('model description', model_object),...]\n",
    "    \"\"\"\n",
    "    _dict = {desc: accuracy_score(df_y_test, predict(X_train, y_train, X_test, model)) for (desc, model) in model_tuples}\n",
    "    df = pd.DataFrame()\n",
    "    df['Model'], df['Accuracy'] = _dict.keys(), _dict.values()\n",
    "    return df"
   ]
  },
  {
   "cell_type": "code",
   "execution_count": 63,
   "metadata": {},
   "outputs": [
    {
     "name": "stdout",
     "output_type": "stream",
     "text": [
      "Model Accuracies for a given dataset:\n"
     ]
    },
    {
     "name": "stderr",
     "output_type": "stream",
     "text": [
      "/usr/local/anaconda3/lib/python3.7/site-packages/ipykernel_launcher.py:2: DataConversionWarning: A column-vector y was passed when a 1d array was expected. Please change the shape of y to (n_samples, ), for example using ravel().\n",
      "  \n",
      "/usr/local/anaconda3/lib/python3.7/site-packages/sklearn/utils/validation.py:578: DataConversionWarning: A column-vector y was passed when a 1d array was expected. Please change the shape of y to (n_samples, ), for example using ravel().\n",
      "  y = column_or_1d(y, warn=True)\n"
     ]
    },
    {
     "data": {
      "text/html": [
       "<div>\n",
       "<style scoped>\n",
       "    .dataframe tbody tr th:only-of-type {\n",
       "        vertical-align: middle;\n",
       "    }\n",
       "\n",
       "    .dataframe tbody tr th {\n",
       "        vertical-align: top;\n",
       "    }\n",
       "\n",
       "    .dataframe thead th {\n",
       "        text-align: right;\n",
       "    }\n",
       "</style>\n",
       "<table border=\"1\" class=\"dataframe\">\n",
       "  <thead>\n",
       "    <tr style=\"text-align: right;\">\n",
       "      <th></th>\n",
       "      <th>Model</th>\n",
       "      <th>Accuracy</th>\n",
       "    </tr>\n",
       "  </thead>\n",
       "  <tbody>\n",
       "    <tr>\n",
       "      <th>0</th>\n",
       "      <td>KNN(k:3)</td>\n",
       "      <td>0.890736</td>\n",
       "    </tr>\n",
       "    <tr>\n",
       "      <th>1</th>\n",
       "      <td>DTC(random_state:5)</td>\n",
       "      <td>0.854428</td>\n",
       "    </tr>\n",
       "    <tr>\n",
       "      <th>2</th>\n",
       "      <td>Logistic Regression</td>\n",
       "      <td>0.961995</td>\n",
       "    </tr>\n",
       "  </tbody>\n",
       "</table>\n",
       "</div>"
      ],
      "text/plain": [
       "                 Model  Accuracy\n",
       "0             KNN(k:3)  0.890736\n",
       "1  DTC(random_state:5)  0.854428\n",
       "2  Logistic Regression  0.961995"
      ]
     },
     "metadata": {},
     "output_type": "display_data"
    }
   ],
   "source": [
    "print(\"Model Accuracies for a given dataset:\")\n",
    "accuracies = accuracy(df_X_train, df_y_train, df_X_test, [\\\n",
    "         (\"KNN(k:3)\",KNeighborsClassifier(n_neighbors=3)),\\\n",
    "         (\"DTC(random_state:5)\",DecisionTreeClassifier(random_state=5)),\\\n",
    "         (\"Logistic Regression\",LogisticRegression())\\\n",
    "                                   ])\n",
    "display(accuracies)"
   ]
  },
  {
   "cell_type": "code",
   "execution_count": null,
   "metadata": {},
   "outputs": [],
   "source": []
  }
 ],
 "metadata": {
  "kernelspec": {
   "display_name": "Python 3",
   "language": "python",
   "name": "python3"
  },
  "language_info": {
   "codemirror_mode": {
    "name": "ipython",
    "version": 3
   },
   "file_extension": ".py",
   "mimetype": "text/x-python",
   "name": "python",
   "nbconvert_exporter": "python",
   "pygments_lexer": "ipython3",
   "version": "3.7.0"
  }
 },
 "nbformat": 4,
 "nbformat_minor": 2
}
